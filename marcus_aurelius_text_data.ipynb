{
  "nbformat": 4,
  "nbformat_minor": 0,
  "metadata": {
    "colab": {
      "name": "marcus_aurelius_text_data.ipynb",
      "provenance": []
    },
    "kernelspec": {
      "name": "python3",
      "display_name": "Python 3"
    }
  },
  "cells": [
    {
      "cell_type": "code",
      "metadata": {
        "id": "NUdLhgdK_6W8",
        "colab_type": "code",
        "colab": {
          "base_uri": "https://localhost:8080/",
          "height": 54
        },
        "outputId": "c908bfa4-5765-48aa-9093-6af97efbfef5"
      },
      "source": [
        "!git clone https://github.com/danielhallinan88/marcus-aurelius-meditations.git"
      ],
      "execution_count": 1,
      "outputs": [
        {
          "output_type": "stream",
          "text": [
            "fatal: destination path 'marcus-aurelius-meditations' already exists and is not an empty directory.\n"
          ],
          "name": "stdout"
        }
      ]
    },
    {
      "cell_type": "code",
      "metadata": {
        "id": "T5f8__V1Af5D",
        "colab_type": "code",
        "colab": {
          "base_uri": "https://localhost:8080/",
          "height": 34
        },
        "outputId": "5ce37999-b355-4a06-8969-146ab8c8f971"
      },
      "source": [
        "import os\n",
        "os.listdir(os.getcwd())"
      ],
      "execution_count": 2,
      "outputs": [
        {
          "output_type": "execute_result",
          "data": {
            "text/plain": [
              "['.config', 'marcus-aurelius-meditations', 'sample_data']"
            ]
          },
          "metadata": {
            "tags": []
          },
          "execution_count": 2
        }
      ]
    },
    {
      "cell_type": "code",
      "metadata": {
        "id": "XpKEwqQsAlV9",
        "colab_type": "code",
        "colab": {}
      },
      "source": [
        "import json\n",
        "\n",
        "with open('marcus-aurelius-meditations/meditations.json') as f:\n",
        "  meditations = json.loads(f.read())"
      ],
      "execution_count": 3,
      "outputs": []
    },
    {
      "cell_type": "code",
      "metadata": {
        "id": "Pr6u_oeYBGBk",
        "colab_type": "code",
        "colab": {
          "base_uri": "https://localhost:8080/",
          "height": 119
        },
        "outputId": "88c97432-9c3d-4f78-9cac-f9ac8dc681de"
      },
      "source": [
        "from nltk.tokenize import word_tokenize\n",
        "from nltk.corpus import stopwords\n",
        "from nltk import download\n",
        "download('punkt')\n",
        "download('stopwords')\n",
        "\n",
        "def text_to_tokens(return_sentences=False):\n",
        "  meditations_tokens = []\n",
        "  punctuation = ['(',')',';',':','[',']',',','.','?']\n",
        "  stop_words = stopwords.words('english')\n",
        "\n",
        "  for chapter, sentences in meditations['chapters'].items():\n",
        "    sentences = list(sentences.values())\n",
        "    for sentence in sentences:\n",
        "      tokens = word_tokenize(sentence)\n",
        "\n",
        "      if return_sentences:\n",
        "        meditations_tokens.append(tokens)\n",
        "      else:\n",
        "        meditations_tokens += tokens\n",
        "\n",
        "\n",
        "  if return_sentences:\n",
        "    keysentences = []\n",
        "    for sentence in meditations_tokens:\n",
        "      new_sentence = []\n",
        "      for word in sentence:\n",
        "        if word not in stop_words and word not in punctuation:\n",
        "          new_sentence.append(word)\n",
        "      keysentences.append(new_sentence)\n",
        "    return keysentences\n",
        "\n",
        "  else:\n",
        "    words = [token for token in meditations_tokens if token not in stop_words and token not in punctuation]\n",
        "    return words\n",
        "\n",
        "meditations_words = text_to_tokens()\n",
        "meditations_sentences = text_to_tokens(return_sentences=True)\n",
        "print(f\"WORD COUNT: {len(meditations_words)}\")\n",
        "print(f\"SENTENCE COUNT: {len(meditations_sentences)}\")"
      ],
      "execution_count": 4,
      "outputs": [
        {
          "output_type": "stream",
          "text": [
            "[nltk_data] Downloading package punkt to /root/nltk_data...\n",
            "[nltk_data]   Package punkt is already up-to-date!\n",
            "[nltk_data] Downloading package stopwords to /root/nltk_data...\n",
            "[nltk_data]   Package stopwords is already up-to-date!\n",
            "WORD COUNT: 21301\n",
            "SENTENCE COUNT: 507\n"
          ],
          "name": "stdout"
        }
      ]
    },
    {
      "cell_type": "code",
      "metadata": {
        "id": "BynH1z2GBIfB",
        "colab_type": "code",
        "colab": {
          "base_uri": "https://localhost:8080/",
          "height": 54
        },
        "outputId": "f13704e5-2f93-43c8-ce04-eb2bb3f0517c"
      },
      "source": [
        "from nltk import FreqDist\n",
        "\n",
        "meditations_common_words = FreqDist(meditations_words)\n",
        "print(meditations_common_words.most_common(10))"
      ],
      "execution_count": 5,
      "outputs": [
        {
          "output_type": "stream",
          "text": [
            "[('thou', 556), ('things', 445), ('man', 335), ('thy', 296), ('I', 233), ('nature', 232), ('thee', 232), ('one', 168), ('But', 168), ('For', 168)]\n"
          ],
          "name": "stdout"
        }
      ]
    },
    {
      "cell_type": "code",
      "metadata": {
        "id": "2aLFritGCJ9z",
        "colab_type": "code",
        "colab": {}
      },
      "source": [
        ""
      ],
      "execution_count": 5,
      "outputs": []
    },
    {
      "cell_type": "code",
      "metadata": {
        "id": "Oe-yVP2MPuRr",
        "colab_type": "code",
        "colab": {}
      },
      "source": [
        ""
      ],
      "execution_count": 5,
      "outputs": []
    }
  ]
}